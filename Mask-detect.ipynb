{
 "cells": [
  {
   "cell_type": "code",
   "execution_count": 1,
   "metadata": {},
   "outputs": [],
   "source": [
    "### Importing required libraries\n",
    "import cv2\n",
    "import os\n",
    "import numpy as np\n",
    "from keras.utils import np_utils\n",
    "from keras.models import Sequential\n",
    "from keras.models import load_model\n",
    "from keras.layers import Dense\n",
    "from keras.layers import Activation\n",
    "from keras.layers import Flatten\n",
    "from keras.layers import Dropout"
   ]
  },
  {
   "cell_type": "code",
   "execution_count": 5,
   "metadata": {},
   "outputs": [],
   "source": [
    "path = 'Dataset'\n",
    "CATEGORIES = os.listdir(path)\n",
    "labels = [i for i in range(len(CATEGORIES))]\n",
    "label_dict = dict(zip(CATEGORIES, labels))"
   ]
  },
  {
   "cell_type": "code",
   "execution_count": 6,
   "metadata": {},
   "outputs": [
    {
     "name": "stdout",
     "output_type": "stream",
     "text": [
      "{'without_mask': 0, 'with_mask': 1}\n",
      "['without_mask', 'with_mask']\n",
      "[0, 1]\n"
     ]
    }
   ],
   "source": [
    "print(label_dict)\n",
    "print(CATEGORIES)\n",
    "print(labels)"
   ]
  },
  {
   "cell_type": "code",
   "execution_count": 7,
   "metadata": {},
   "outputs": [],
   "source": [
    "img_size = 100\n",
    "data = []\n",
    "target = []"
   ]
  },
  {
   "cell_type": "code",
   "execution_count": 8,
   "metadata": {},
   "outputs": [],
   "source": [
    "for category in CATEGORIES:\n",
    "    fold_path = os.path.join(path, category)\n",
    "    img_names = os.listdir(fold_path)\n",
    "    \n",
    "    for img_name in img_names:\n",
    "        img_path = os.path.join(fold_path, img_name)\n",
    "        img = cv2.imread(img_path)\n",
    "        \n",
    "        try:\n",
    "            gray = cv2.cvtColor(img, cv2.COLOR_BGR2GRAY)\n",
    "            resized = cv2.resize(gray, (img_size, img_size))\n",
    "            \n",
    "            data.append(resized)\n",
    "            target.append(label_dict[category])\n",
    "            \n",
    "        except Exception as e:\n",
    "            print('Exception:', e)"
   ]
  },
  {
   "cell_type": "code",
   "execution_count": 12,
   "metadata": {},
   "outputs": [],
   "source": [
    "data = np.array(data)/255.0\n",
    "data = np.reshape(data, (data.shape[0], img_size, img_size, 1))\n",
    "target = np.array(target)\n",
    "\n",
    "new_target = np_utils.to_categorical(target)"
   ]
  },
  {
   "cell_type": "code",
   "execution_count": 13,
   "metadata": {},
   "outputs": [],
   "source": [
    "np.save('data', data)\n",
    "np.save('target', new_target)"
   ]
  },
  {
   "cell_type": "markdown",
   "metadata": {},
   "source": [
    "# Training the CNN"
   ]
  },
  {
   "cell_type": "code",
   "execution_count": 14,
   "metadata": {},
   "outputs": [],
   "source": [
    "### Loading save data and target files\n",
    "data = np.load('data.npy')\n",
    "target = np.load('target.npy')"
   ]
  },
  {
   "cell_type": "code",
   "execution_count": 17,
   "metadata": {},
   "outputs": [],
   "source": [
    "from keras.layers import Conv2D\n",
    "from keras.layers import MaxPooling2D\n",
    "from keras.callbacks import ModelCheckpoint\n",
    "\n",
    "model = Sequential()\n",
    "\n",
    "### First CNN layer follows the Relu and MaxPooling layers\n",
    "model.add(Conv2D(200, (3,3), input_shape=data.shape[1:]))\n",
    "model.add(Activation('relu'))\n",
    "model.add(MaxPooling2D(pool_size=(2,2)))\n",
    "\n",
    "### Second CNN layer follow the Relu and MaxPooling layers\n",
    "model.add(Conv2D(100, (3,3)))\n",
    "model.add(Activation('relu'))\n",
    "model.add(MaxPooling2D(pool_size=(2,2)))\n",
    "\n",
    "### Flatten the layer to stack the output\n",
    "model.add(Flatten())\n",
    "model.add(Dropout(0.5))\n",
    "\n",
    "### Dense layer\n",
    "model.add(Dense(50, activation='relu'))\n",
    "\n",
    "### Final layer with two neurons\n",
    "model.add(Dense(2, activation='softmax'))\n",
    "\n",
    "model.compile(loss='categorical_crossentropy', optimizer='adam', metrics = ['accuracy'])"
   ]
  },
  {
   "cell_type": "code",
   "execution_count": 19,
   "metadata": {},
   "outputs": [],
   "source": [
    "### Splitting dataset into train test sets\n",
    "from sklearn.model_selection import train_test_split\n",
    "data_train, data_test, target_train, target_test = train_test_split(data, target, test_size=0.1)"
   ]
  },
  {
   "cell_type": "code",
   "execution_count": 20,
   "metadata": {},
   "outputs": [
    {
     "name": "stdout",
     "output_type": "stream",
     "text": [
      "Epoch 1/20\n",
      "31/31 [==============================] - ETA: 0s - loss: 0.7211 - accuracy: 0.5141WARNING:tensorflow:Can save best model only with val-loss available, skipping.\n",
      "31/31 [==============================] - 32s 1s/step - loss: 0.7211 - accuracy: 0.5141 - val_loss: 0.6880 - val_accuracy: 0.5363\n",
      "Epoch 2/20\n",
      "31/31 [==============================] - ETA: 0s - loss: 0.6465 - accuracy: 0.6424WARNING:tensorflow:Can save best model only with val-loss available, skipping.\n",
      "31/31 [==============================] - 34s 1s/step - loss: 0.6465 - accuracy: 0.6424 - val_loss: 0.5461 - val_accuracy: 0.7540\n",
      "Epoch 3/20\n",
      "31/31 [==============================] - ETA: 0s - loss: 0.4719 - accuracy: 0.7919WARNING:tensorflow:Can save best model only with val-loss available, skipping.\n",
      "31/31 [==============================] - 32s 1s/step - loss: 0.4719 - accuracy: 0.7919 - val_loss: 0.4562 - val_accuracy: 0.8226\n",
      "Epoch 4/20\n",
      "31/31 [==============================] - ETA: 0s - loss: 0.3635 - accuracy: 0.8384WARNING:tensorflow:Can save best model only with val-loss available, skipping.\n",
      "31/31 [==============================] - 32s 1s/step - loss: 0.3635 - accuracy: 0.8384 - val_loss: 0.3768 - val_accuracy: 0.8347\n",
      "Epoch 5/20\n",
      "31/31 [==============================] - ETA: 0s - loss: 0.2635 - accuracy: 0.9051WARNING:tensorflow:Can save best model only with val-loss available, skipping.\n",
      "31/31 [==============================] - 32s 1s/step - loss: 0.2635 - accuracy: 0.9051 - val_loss: 0.2783 - val_accuracy: 0.8992\n",
      "Epoch 6/20\n",
      "31/31 [==============================] - ETA: 0s - loss: 0.1877 - accuracy: 0.9323WARNING:tensorflow:Can save best model only with val-loss available, skipping.\n",
      "31/31 [==============================] - 33s 1s/step - loss: 0.1877 - accuracy: 0.9323 - val_loss: 0.3431 - val_accuracy: 0.8710\n",
      "Epoch 7/20\n",
      "31/31 [==============================] - ETA: 0s - loss: 0.1478 - accuracy: 0.9455WARNING:tensorflow:Can save best model only with val-loss available, skipping.\n",
      "31/31 [==============================] - 33s 1s/step - loss: 0.1478 - accuracy: 0.9455 - val_loss: 0.2110 - val_accuracy: 0.9315\n",
      "Epoch 8/20\n",
      "31/31 [==============================] - ETA: 0s - loss: 0.1030 - accuracy: 0.9626WARNING:tensorflow:Can save best model only with val-loss available, skipping.\n",
      "31/31 [==============================] - 33s 1s/step - loss: 0.1030 - accuracy: 0.9626 - val_loss: 0.2165 - val_accuracy: 0.9315\n",
      "Epoch 9/20\n",
      "31/31 [==============================] - ETA: 0s - loss: 0.0791 - accuracy: 0.9727WARNING:tensorflow:Can save best model only with val-loss available, skipping.\n",
      "31/31 [==============================] - 34s 1s/step - loss: 0.0791 - accuracy: 0.9727 - val_loss: 0.1967 - val_accuracy: 0.9435\n",
      "Epoch 10/20\n",
      "31/31 [==============================] - ETA: 0s - loss: 0.0669 - accuracy: 0.9778WARNING:tensorflow:Can save best model only with val-loss available, skipping.\n",
      "31/31 [==============================] - 34s 1s/step - loss: 0.0669 - accuracy: 0.9778 - val_loss: 0.2397 - val_accuracy: 0.9194\n",
      "Epoch 11/20\n",
      "31/31 [==============================] - ETA: 0s - loss: 0.0606 - accuracy: 0.9808WARNING:tensorflow:Can save best model only with val-loss available, skipping.\n",
      "31/31 [==============================] - 34s 1s/step - loss: 0.0606 - accuracy: 0.9808 - val_loss: 0.1685 - val_accuracy: 0.9395\n",
      "Epoch 12/20\n",
      "31/31 [==============================] - ETA: 0s - loss: 0.0640 - accuracy: 0.9798WARNING:tensorflow:Can save best model only with val-loss available, skipping.\n",
      "31/31 [==============================] - 35s 1s/step - loss: 0.0640 - accuracy: 0.9798 - val_loss: 0.2255 - val_accuracy: 0.9395\n",
      "Epoch 13/20\n",
      "31/31 [==============================] - ETA: 0s - loss: 0.0350 - accuracy: 0.9929WARNING:tensorflow:Can save best model only with val-loss available, skipping.\n",
      "31/31 [==============================] - 34s 1s/step - loss: 0.0350 - accuracy: 0.9929 - val_loss: 0.2633 - val_accuracy: 0.9315\n",
      "Epoch 14/20\n",
      "31/31 [==============================] - ETA: 0s - loss: 0.0343 - accuracy: 0.9879WARNING:tensorflow:Can save best model only with val-loss available, skipping.\n",
      "31/31 [==============================] - 34s 1s/step - loss: 0.0343 - accuracy: 0.9879 - val_loss: 0.1999 - val_accuracy: 0.9395\n",
      "Epoch 15/20\n",
      "31/31 [==============================] - ETA: 0s - loss: 0.0584 - accuracy: 0.9818WARNING:tensorflow:Can save best model only with val-loss available, skipping.\n",
      "31/31 [==============================] - 34s 1s/step - loss: 0.0584 - accuracy: 0.9818 - val_loss: 0.2650 - val_accuracy: 0.9234\n",
      "Epoch 16/20\n",
      "31/31 [==============================] - ETA: 0s - loss: 0.0428 - accuracy: 0.9859WARNING:tensorflow:Can save best model only with val-loss available, skipping.\n",
      "31/31 [==============================] - 34s 1s/step - loss: 0.0428 - accuracy: 0.9859 - val_loss: 0.1877 - val_accuracy: 0.9435\n",
      "Epoch 17/20\n",
      "31/31 [==============================] - ETA: 0s - loss: 0.0284 - accuracy: 0.9899WARNING:tensorflow:Can save best model only with val-loss available, skipping.\n",
      "31/31 [==============================] - 34s 1s/step - loss: 0.0284 - accuracy: 0.9899 - val_loss: 0.2229 - val_accuracy: 0.9395\n",
      "Epoch 18/20\n",
      "31/31 [==============================] - ETA: 0s - loss: 0.0281 - accuracy: 0.9909WARNING:tensorflow:Can save best model only with val-loss available, skipping.\n",
      "31/31 [==============================] - 34s 1s/step - loss: 0.0281 - accuracy: 0.9909 - val_loss: 0.2389 - val_accuracy: 0.9476\n",
      "Epoch 19/20\n",
      "31/31 [==============================] - ETA: 0s - loss: 0.0258 - accuracy: 0.9899WARNING:tensorflow:Can save best model only with val-loss available, skipping.\n",
      "31/31 [==============================] - 34s 1s/step - loss: 0.0258 - accuracy: 0.9899 - val_loss: 0.2546 - val_accuracy: 0.9355\n",
      "Epoch 20/20\n",
      "31/31 [==============================] - ETA: 0s - loss: 0.0137 - accuracy: 0.9970WARNING:tensorflow:Can save best model only with val-loss available, skipping.\n",
      "31/31 [==============================] - 36s 1s/step - loss: 0.0137 - accuracy: 0.9970 - val_loss: 0.2676 - val_accuracy: 0.9435\n"
     ]
    }
   ],
   "source": [
    "checkpoint = ModelCheckpoint('model-{epoch:03d}.model', monitor='val-loss', verbose=0, save_best_only=True, mode='auto')\n",
    "hist = model.fit(data_train, target_train, epochs=20, callbacks=[checkpoint], validation_split=0.2)"
   ]
  },
  {
   "cell_type": "code",
   "execution_count": 25,
   "metadata": {},
   "outputs": [
    {
     "data": {
      "image/png": "[encoded data removed]",
      "text/plain": [
       "<Figure size 432x288 with 1 Axes>"
      ]
     },
     "metadata": {
      "needs_background": "light"
     },
     "output_type": "display_data"
    }
   ],
   "source": [
    "import matplotlib.pyplot as plt\n",
    "\n",
    "plt.plot(hist.history['loss'], 'r', label='training loss')\n",
    "plt.plot(hist.history['val_loss'], 'b', label='validation loss')\n",
    "plt.xlabel('epochs')\n",
    "plt.ylabel('loss')\n",
    "plt.legend()\n",
    "plt.show()"
   ]
  },
  {
   "cell_type": "code",
   "execution_count": 24,
   "metadata": {},
   "outputs": [
    {
     "data": {
      "image/png": "[encoded data removed]",
      "text/plain": [
       "<Figure size 432x288 with 1 Axes>"
      ]
     },
     "metadata": {
      "needs_background": "light"
     },
     "output_type": "display_data"
    }
   ],
   "source": [
    "plt.plot(hist.history['accuracy'], 'r', label='training accuracy')\n",
    "plt.plot(hist.history['val_accuracy'], 'b', label='validation accuracy')\n",
    "plt.xlabel('epochs')\n",
    "plt.ylabel('loss')\n",
    "plt.legend()\n",
    "plt.show()"
   ]
  },
  {
   "cell_type": "code",
   "execution_count": 30,
   "metadata": {},
   "outputs": [
    {
     "name": "stdout",
     "output_type": "stream",
     "text": [
      "5/5 [==============================] - 1s 181ms/step - loss: 0.0968 - accuracy: 0.9783\n",
      "[0.09681364893913269, 0.97826087474823]\n"
     ]
    }
   ],
   "source": [
    "print(model.evaluate(data_test, target_test))"
   ]
  },
  {
   "cell_type": "markdown",
   "metadata": {},
   "source": [
    "# Detecting faces with and without mask"
   ]
  },
  {
   "cell_type": "code",
   "execution_count": 33,
   "metadata": {},
   "outputs": [],
   "source": [
    "model = load_model('model-020.model')   ### Selecting the best trained model\n",
    "\n",
    "face_clsfr = cv2.CascadeClassifier('haarcascade_frontalface_default.xml')\n",
    "\n",
    "src = cv2.VideoCapture(2)\n",
    "\n",
    "labels_dict = {0:'Mask', 1:'No Mask'}\n",
    "color_dict = {0:(0,0,255), 1:(255,0,0)}"
   ]
  },
  {
   "cell_type": "code",
   "execution_count": null,
   "metadata": {},
   "outputs": [],
   "source": [
    "while(True):\n",
    "    ret,img = src.read()\n",
    "    gray = cv2.cvtColor(img, cv2.COLOR_BGR2GRAY)\n",
    "    faces = face_clsfr.detectMultiScale(gray,1.3,5)\n",
    "    \n",
    "    for x,y,w,h in faces:\n",
    "        face_img = gray[y:y+w, x:x+h]\n",
    "        resized = cv2.resize(face_img, (100,100))\n",
    "        normalized = resized/255.0\n",
    "        reshaped = np.reshape(normalized, (1,100,100,1))\n",
    "        result = model.predict(reshaped)\n",
    "        \n",
    "        label = np.argmax(result, axis=1)[0]\n",
    "        \n",
    "        cv2.rectangle(img, (x,y), (x+w, y+h), color_dict[label], 2)\n",
    "        cv2.rectangle(img, (x,y-40), (x+w,y), color_dict[label], -1)\n",
    "        cv2.putText(img, labels_dict[label], (x,y-10), cv2.FONT_HERSHEY_SIMPLEX, 0.8, (255,255,255), 2)\n",
    "        \n",
    "    cv2.imshow('LIVE',img)\n",
    "    key = cv2.waitKey(1)\n",
    "    \n",
    "    if(key == 27):\n",
    "        break\n",
    "        \n",
    "cv2.destroyAllWindows()\n",
    "src.release()"
   ]
  }
 ],
 "metadata": {
  "kernelspec": {
   "display_name": "Python 3",
   "language": "python",
   "name": "python3"
  },
  "language_info": {
   "codemirror_mode": {
    "name": "ipython",
    "version": 3
   },
   "file_extension": ".py",
   "mimetype": "text/x-python",
   "name": "python",
   "nbconvert_exporter": "python",
   "pygments_lexer": "ipython3",
   "version": "3.8.6"
  }
 },
 "nbformat": 4,
 "nbformat_minor": 4
}
